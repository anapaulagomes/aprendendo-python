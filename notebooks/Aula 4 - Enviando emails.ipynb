{
 "cells": [
  {
   "cell_type": "markdown",
   "metadata": {},
   "source": [
    "# Enviando emails\n",
    "\n",
    "Com Python é possível fazer muitas coisas, desde conectar com outros\n",
    "sites como Youtube, Vagalume e Twitter (via APIs) e também enviar emails.\n",
    "\n",
    "O envio de emails pode ser útil em diversas circunstâncias. Algumas delas:\n",
    "\n",
    "* Notificar alguém em caso de erro\n",
    "* Criação de um curso online por email\n",
    "* Lembretes\n",
    "\n",
    "Nessa atividade vamos criar um programa que envia emails a partir\n",
    "de um email do Gmail.\n",
    "\n",
    "**Importante**\n",
    "\n",
    "* Emails institucionais podem não ter permissões para esse tipo de envio\n",
    "* Se você tem o 2FA (autenticação de dois fatores ou two factor authentication) talvez precise criar uma senha para esse tipo de envio [aqui](https://security.google.com/settings/security/apppasswords)\n"
   ]
  },
  {
   "cell_type": "code",
   "execution_count": null,
   "metadata": {},
   "outputs": [],
   "source": [
    "import smtplib\n",
    "\n",
    "server = smtplib.SMTP_SSL(\n",
    "    'smtp.gmail.com', 465\n",
    ")\n",
    "server.login(\n",
    "    \"seu_email@gmail.com\",\n",
    "    \"senha do seu email\"\n",
    ")\n",
    "\n",
    "assunto = \"Oi!\"\n",
    "texto = \"Esse email foi enviado com Python!\"\n",
    "mensagem = f'Subject: {assunto}\\n\\n{texto}'\n",
    "try:\n",
    "    server.sendmail(\n",
    "        \"SEU_EMAIL@gmail.com\", # remetente\n",
    "        \"EMAIL_QUE_VOCE_QUER_ENVIAR_UMA_MSG@gmail.com\", # destinatario\n",
    "        mensagem\n",
    "    )\n",
    "    server.quit()\n",
    "except:\n",
    "    print('Algo deu errado =/')\n",
    "else:\n",
    "    print('Email enviado.')\n"
   ]
  }
 ],
 "metadata": {
  "kernelspec": {
   "display_name": "Python 3",
   "language": "python",
   "name": "python3"
  },
  "language_info": {
   "codemirror_mode": {
    "name": "ipython",
    "version": 3
   },
   "file_extension": ".py",
   "mimetype": "text/x-python",
   "name": "python",
   "nbconvert_exporter": "python",
   "pygments_lexer": "ipython3",
   "version": "3.8.0"
  }
 },
 "nbformat": 4,
 "nbformat_minor": 2
}
