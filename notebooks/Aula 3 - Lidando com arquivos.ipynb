{
 "cells": [
  {
   "cell_type": "markdown",
   "metadata": {},
   "source": [
    "## Dicionários\n",
    "\n",
    "Agora que já sabemos o que são listas podemos criar uma agenda telefônica, com o número dos nossos\n",
    "melhores amigos. Como podemos fazer isso? Com listas?\n",
    "\n",
    "```\n",
    "amigos = ['Mateus', 'Ana', 'Lari']\n",
    "telefone_dos_amigos = [123456, 998765, 56742534]\n",
    "```\n",
    "\n",
    "Até poderíamos fazer mas teríamos que mudar as duas listas juntas todas as vezes.\n",
    "E se errarmos a posição dos números? Essa agenda telefônica não seria muito confiável.\n",
    "\n",
    "Para resolver esse problema onde precisamos de um identificador único para armazenar dados,\n",
    "podemos utilizar uma estrutura de dados chamada Dicionários."
   ]
  },
  {
   "cell_type": "code",
   "execution_count": 1,
   "metadata": {},
   "outputs": [
    {
     "name": "stdout",
     "output_type": "stream",
     "text": [
      "O telefone de Lari é: 5674253\n",
      "O telefone de Lari é: 5674253\n"
     ]
    }
   ],
   "source": [
    "agenda = {\n",
    "    'Mateus': 123456,\n",
    "    'Ana': 998765,\n",
    "    'Lari': 5674253,\n",
    "}\n",
    "\n",
    "print(f\"O telefone de Lari é: {agenda.get('Lari')}\")\n",
    "\n",
    "# podemos mostrar também dessa forma\n",
    "print(f\"O telefone de Lari é: {agenda['Lari']}\")"
   ]
  },
  {
   "cell_type": "code",
   "execution_count": 2,
   "metadata": {},
   "outputs": [
    {
     "ename": "KeyError",
     "evalue": "'Mari'",
     "output_type": "error",
     "traceback": [
      "\u001b[0;31m---------------------------------------------------------------------------\u001b[0m",
      "\u001b[0;31mKeyError\u001b[0m                                  Traceback (most recent call last)",
      "\u001b[0;32m<ipython-input-2-aff0053c66a1>\u001b[0m in \u001b[0;36m<module>\u001b[0;34m\u001b[0m\n\u001b[0;32m----> 1\u001b[0;31m \u001b[0mprint\u001b[0m\u001b[0;34m(\u001b[0m\u001b[0;34mf\"O telefone de Mari é: {agenda['Mari']}\"\u001b[0m\u001b[0;34m)\u001b[0m  \u001b[0;31m# gera um erro porque Mari não está na agenda ainda :)\u001b[0m\u001b[0;34m\u001b[0m\u001b[0;34m\u001b[0m\u001b[0m\n\u001b[0m",
      "\u001b[0;31mKeyError\u001b[0m: 'Mari'"
     ]
    }
   ],
   "source": [
    "print(f\"O telefone de Mari é: {agenda['Mari']}\")  # gera um erro porque Mari não está na agenda ainda :)"
   ]
  },
  {
   "cell_type": "code",
   "execution_count": null,
   "metadata": {},
   "outputs": [],
   "source": [
    "agenda['Mari'] = 6769798  # adicionamos o número de Mari\n",
    "\n",
    "print(agenda)"
   ]
  },
  {
   "cell_type": "markdown",
   "metadata": {},
   "source": [
    "Os dicionários utilizam uma estrutura de **chave** e **valor**, onde a chave é o identificador único\n",
    "e o valor pode ser qualquer coisa: inclusive outro dicionário.\n",
    "\n",
    "O que acontece se você utilizar a mesma chave com valores diferentes?\n",
    "Consegue adivinha qual número será impresso na tela?"
   ]
  },
  {
   "cell_type": "code",
   "execution_count": null,
   "metadata": {},
   "outputs": [],
   "source": [
    "agenda = {\n",
    "    'Mateus': 123456,\n",
    "    'Ana': 998765,\n",
    "    'Lari': 5674253,\n",
    "    'Mateus': 99900009999,  # mudou de número\n",
    "}\n",
    "\n",
    "# print(f\"O telefone de Mateus é: {agenda.get('Mateus')}\")"
   ]
  },
  {
   "cell_type": "markdown",
   "metadata": {},
   "source": [
    "Nenhum erro será apontado pelo Python porque a linguagem entende que você pode atualizar os valores\n",
    "mais tarde. Tem que tomar cuidado para não fazer isso por acidente.\n",
    "\n",
    "Falando em atualizar, como podemos atualizar um número de alguém que você já tem na agenda?"
   ]
  },
  {
   "cell_type": "markdown",
   "metadata": {},
   "source": [
    "### Exercício\n",
    "\n",
    "Você já sabe como receber dados de um usuário com `input`. Que tal\n",
    "combinar seu conhecimento sobre listas e dicionários e criar uma agenda que adiciona\n",
    "nomes e telefones de alguém?\n"
   ]
  },
  {
   "cell_type": "markdown",
   "metadata": {},
   "source": [
    "## Lidando com Arquivos\n",
    "\n",
    "Escrever e ler arquivos é uma das coisas mais legais que podemos fazer com programação.\n",
    "Com eles você pode salvar dados e adicionar informações ao seu programa."
   ]
  },
  {
   "cell_type": "code",
   "execution_count": 3,
   "metadata": {},
   "outputs": [],
   "source": [
    "# criando um novo arquivo\n",
    "\n",
    "meu_arquivo = open('novo-arquivo.txt', 'w')  # esse w indica que o arquivo é \"writable\" (pode ter algo escrito, em português)\n",
    "meu_arquivo.write('olha aqui o que eu criei')\n",
    "meu_arquivo.close()"
   ]
  },
  {
   "cell_type": "code",
   "execution_count": 4,
   "metadata": {},
   "outputs": [],
   "source": [
    "# atualizando um arquivo que já existe\n",
    "\n",
    "meu_arquivo = open('novo-arquivo.txt', 'a')  # esse a indica que o arquivo é \"appendable\" (pode ser adicionado, em português)\n",
    "meu_arquivo.write('\\nessa deve ser a segunda linha')\n",
    "meu_arquivo.close()"
   ]
  },
  {
   "cell_type": "code",
   "execution_count": 5,
   "metadata": {},
   "outputs": [
    {
     "ename": "UnsupportedOperation",
     "evalue": "not writable",
     "output_type": "error",
     "traceback": [
      "\u001b[0;31m---------------------------------------------------------------------------\u001b[0m",
      "\u001b[0;31mUnsupportedOperation\u001b[0m                      Traceback (most recent call last)",
      "\u001b[0;32m<ipython-input-5-c77ce516307f>\u001b[0m in \u001b[0;36m<module>\u001b[0;34m\u001b[0m\n\u001b[1;32m      4\u001b[0m \u001b[0;31m# ou\u001b[0m\u001b[0;34m\u001b[0m\u001b[0;34m\u001b[0m\u001b[0;34m\u001b[0m\u001b[0m\n\u001b[1;32m      5\u001b[0m \u001b[0mmeu_arquivo\u001b[0m \u001b[0;34m=\u001b[0m \u001b[0mopen\u001b[0m\u001b[0;34m(\u001b[0m\u001b[0;34m'novo-arquivo.txt'\u001b[0m\u001b[0;34m)\u001b[0m  \u001b[0;31m# o r fica implícito\u001b[0m\u001b[0;34m\u001b[0m\u001b[0;34m\u001b[0m\u001b[0m\n\u001b[0;32m----> 6\u001b[0;31m \u001b[0mmeu_arquivo\u001b[0m\u001b[0;34m.\u001b[0m\u001b[0mwrite\u001b[0m\u001b[0;34m(\u001b[0m\u001b[0;34m'\\nessa deve ser a segunda linha'\u001b[0m\u001b[0;34m)\u001b[0m\u001b[0;34m\u001b[0m\u001b[0;34m\u001b[0m\u001b[0m\n\u001b[0m\u001b[1;32m      7\u001b[0m \u001b[0mmeu_arquivo\u001b[0m\u001b[0;34m.\u001b[0m\u001b[0mclose\u001b[0m\u001b[0;34m(\u001b[0m\u001b[0;34m)\u001b[0m\u001b[0;34m\u001b[0m\u001b[0;34m\u001b[0m\u001b[0m\n",
      "\u001b[0;31mUnsupportedOperation\u001b[0m: not writable"
     ]
    }
   ],
   "source": [
    "# abrindo um arquivo somente para leitura\n",
    "\n",
    "meu_arquivo = open('novo-arquivo.txt', 'r')  # esse r significa \"readable\" (de legível)\n",
    "# ou\n",
    "meu_arquivo = open('novo-arquivo.txt')  # o r fica implícito\n",
    "meu_arquivo.write('\\nessa deve ser a segunda linha')  # dá erro\n",
    "meu_arquivo.close()\n"
   ]
  },
  {
   "cell_type": "code",
   "execution_count": 6,
   "metadata": {},
   "outputs": [
    {
     "data": {
      "text/plain": [
       "'olha aqui o que eu criei\\nessa deve ser a segunda linha'"
      ]
     },
     "execution_count": 6,
     "metadata": {},
     "output_type": "execute_result"
    }
   ],
   "source": [
    "meu_arquivo = open('novo-arquivo.txt')\n",
    "meu_arquivo.read()  # mostra o conteúdo"
   ]
  },
  {
   "cell_type": "code",
   "execution_count": 10,
   "metadata": {},
   "outputs": [
    {
     "data": {
      "text/plain": [
       "['olha aqui o que eu criei\\n', 'essa deve ser a segunda linha']"
      ]
     },
     "execution_count": 10,
     "metadata": {},
     "output_type": "execute_result"
    }
   ],
   "source": [
    "meu_arquivo = open('novo-arquivo.txt')\n",
    "meu_arquivo.readlines()  # te devolve uma lista de linhas"
   ]
  },
  {
   "cell_type": "code",
   "execution_count": null,
   "metadata": {},
   "outputs": [],
   "source": []
  }
 ],
 "metadata": {
  "kernelspec": {
   "display_name": "Python 3",
   "language": "python",
   "name": "python3"
  },
  "language_info": {
   "codemirror_mode": {
    "name": "ipython",
    "version": 3
   },
   "file_extension": ".py",
   "mimetype": "text/x-python",
   "name": "python",
   "nbconvert_exporter": "python",
   "pygments_lexer": "ipython3",
   "version": "3.8.0"
  }
 },
 "nbformat": 4,
 "nbformat_minor": 2
}
