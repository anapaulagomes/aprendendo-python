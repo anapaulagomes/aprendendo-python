{
 "cells": [
  {
   "cell_type": "markdown",
   "metadata": {},
   "source": [
    "# Olá, mundo\n",
    "\n",
    "Mostrando um \"Olá, mundo\" na tela foi como boa parte das pessoas programadoras começou.\n",
    "Chegou a sua vez!"
   ]
  },
  {
   "cell_type": "code",
   "execution_count": 16,
   "metadata": {},
   "outputs": [
    {
     "name": "stdout",
     "output_type": "stream",
     "text": [
      "Olá, mundo!\n"
     ]
    }
   ],
   "source": [
    "print(\"Olá, mundo!\")"
   ]
  },
  {
   "cell_type": "markdown",
   "metadata": {},
   "source": [
    "Repare que você teve que colocar a sua mensagem dentro de parênteses antecedidos por `print`. O `print` é um método (ou uma função) responśavel por mostrar alguma informação na tela.\n",
    "\n",
    "Você pode mostrar outras coisas também:"
   ]
  },
  {
   "cell_type": "code",
   "execution_count": 17,
   "metadata": {},
   "outputs": [
    {
     "name": "stdout",
     "output_type": "stream",
     "text": [
      "Meu nome é Ana\n",
      "Eu tenho 31 anos\n",
      "\n",
      "C\n",
      "J\n",
      "C\n",
      "C\n",
      "\n"
     ]
    }
   ],
   "source": [
    "print(\"Meu nome é Ana\")\n",
    "print(f\"Eu tenho {2019 - 1988} anos\")\n",
    "print(\"\\nC\\nJ\\nC\\nC\\n\")"
   ]
  },
  {
   "cell_type": "markdown",
   "metadata": {},
   "source": [
    "# Variáveis e tipos de dados\n",
    "\n",
    "Mas não só de imprimir seu nome na tela viverá a pessoa programadora.:)\n",
    "Seria muito legal se a gente conseguisse salvar informações. Isso é\n",
    "possível graças ás **variáveis**!"
   ]
  },
  {
   "cell_type": "code",
   "execution_count": 18,
   "metadata": {},
   "outputs": [
    {
     "name": "stdout",
     "output_type": "stream",
     "text": [
      "---------- Ficha ----------\n",
      "Nome: Ana Paula Gomes\n",
      "Idade: 31\n",
      "Saldo: 4.89\n",
      "É programadora? True\n"
     ]
    }
   ],
   "source": [
    "nome = 'Ana Paula Gomes'\n",
    "ano_de_nascimento = 1988\n",
    "dinheiro_na_carteira = 4.89\n",
    "eh_programadora = True  # True significa verdadeiro / False significa falso\n",
    "\n",
    "print('---------- Ficha ----------')\n",
    "print(f'Nome: {nome}')\n",
    "print(f'Idade: {2019 - ano_de_nascimento}')\n",
    "print(f'Saldo: {dinheiro_na_carteira}')\n",
    "print(f'É programadora? {eh_programadora}')\n"
   ]
  },
  {
   "cell_type": "markdown",
   "metadata": {},
   "source": [
    "Cada tipo de informação está guardada dentro das suas caixinhas (variáveis) e você pode reutilizá-las ou modificá-las quantas vezes quiser. Em Python, os nomes de variáveis podem:\n",
    "\n",
    "* incluir letras e números (e _underscores_ `_` também)\n",
    "* embora possa incluir números, não pode iniciar com eles (você pode criar um `carro1` mas não um `1carro`)\n",
    "* são _case sensitive_ ; ou seja, ele vai diferenciar letras maiúsculas e minúsculas\n",
    "\n",
    "Python infere qual o tipo de dado você está utilizando a partir do dado que você atribui as suas variáveis.\n",
    "Se você quiser saber qual tipo de variável está utilizando, basta chamar o método `type`:"
   ]
  },
  {
   "cell_type": "code",
   "execution_count": 19,
   "metadata": {},
   "outputs": [
    {
     "name": "stdout",
     "output_type": "stream",
     "text": [
      "<class 'bool'>\n"
     ]
    }
   ],
   "source": [
    "eh_estudante = True\n",
    "print(type(eh_estudante))"
   ]
  },
  {
   "cell_type": "markdown",
   "metadata": {},
   "source": [
    "| Tipo de dado     | Exemplo | Descrição        |\n",
    "| :---: | :---: | :--- |\n",
    "| string (`str`) | `\"CJCC\"`, `\"Estou vendo um filme na Netflix\"` | Utilizado para representar números inteiros. Exemplo: número de telefone, idade, ano de nascimento, número da casa |\n",
    "| inteiro (`int`) | `2020` | Utilizado para representar números inteiros. Exemplo: número de telefone, idade, ano de nascimento, número da casa |\n",
    "| float (`float`) | `9.99` | Utilizado para representar números decimais. Exemplo: dinheiro, quantidade de um líquido |\n",
    "| boleano (`bool`) | `True` / `False` | Utilizado para representar informações que podem ser classificadas em verdadeiro ou falso. Exemplo: tem mais de 18 anos? Gosta de coentro? |\n",
    "\n",
    "O que acha de tentar o método `type` com as outras variáveis?\n",
    "\n",
    "### Exercício\n",
    "\n",
    "Agora é a sua vez. Crie uma ficha sobre você com as seguintes informações:\n",
    "\n",
    "* Seu nome completo\n",
    "* Apelido\n",
    "* Idade\n",
    "* É a primeira vez que você programa?\n",
    "* O que você gosta de fazer no seu tempo livre?\n",
    "\n",
    "Você deve utilizar variáveis e imprimir todas as informações na tela."
   ]
  },
  {
   "cell_type": "markdown",
   "metadata": {},
   "source": [
    "# Listas\n",
    "\n",
    "E se você quiser guardar uma lista das mesmas coisas, como os seus seriados preferidos?\n",
    "Você poderia criar uma variável pra cada um.\n",
    "\n",
    "\n",
    "```\n",
    "seriado1 = \"The Crown\"\n",
    "seriado2 = \"Bojack Horseman\"\n",
    "seriado3 = \"Explicando\"\n",
    "\n",
    "```\n",
    "\n",
    "Conforme a lista for crescendo, vai ser difícil gerenciar todas as variáveis, já que elas\n",
    "estão separadas. Com o Python você pode criar suas próprias **listas**:"
   ]
  },
  {
   "cell_type": "code",
   "execution_count": 20,
   "metadata": {},
   "outputs": [
    {
     "name": "stdout",
     "output_type": "stream",
     "text": [
      "['The Crown', 'Bojack Horseman', 'Explicando']\n"
     ]
    }
   ],
   "source": [
    "seriados = [\"The Crown\", \"Bojack Horseman\", \"Explicando\"]\n",
    "print(seriados)"
   ]
  },
  {
   "cell_type": "markdown",
   "metadata": {},
   "source": [
    "Você pode também criar listas combinando tipos diferentes:\n",
    "\n",
    "```\n",
    "notas = [10, 8.9, 7.5, 9.2]  # inteiros e decimais\n",
    "```\n",
    "\n",
    "### Exercício\n",
    "\n",
    "Crie listas com:\n",
    "\n",
    "* Coisas que você adora fazer em Feira de Santana\n",
    "* Coisas que você não gosta em Feira de Santana\n",
    "* O que você mais curte fazer na internet"
   ]
  },
  {
   "cell_type": "markdown",
   "metadata": {},
   "source": [
    "PS.: a essa altura do campeonato você já deve ter notado umas **hashtags** rolando por aí.\n",
    "Elas são chamadas de **comentários**. O conteúdo delas será ignorado pelo Python e você\n",
    "pode escrever o que você quiser. É importante para documentar o que você está fazendo ou\n",
    "pontos que queira explicar para o seu eu do futuro ou para o seu time.\n",
    "\n",
    "`# eu sou um comentário`\n",
    "\n",
    "Comentários podem ter também múltiplas linhas:\n",
    "\n",
    "```\n",
    "\"\"\"\n",
    "Muitas\n",
    "Linhas\n",
    "Aqui\n",
    "\"\"\"\n",
    "```"
   ]
  },
  {
   "cell_type": "markdown",
   "metadata": {},
   "source": [
    "## Mais ação com listas\n",
    "\n",
    "Dá pra fazer bastante coisas com listas. Elas são uma estrutura de dados poderosa!\n",
    "\n",
    "Vamos ver como:\n",
    "\n",
    "* adicionar\n",
    "* remover\n",
    "* buscar\n",
    "* ordenar\n",
    "\n",
    "Elementos em uma lista!"
   ]
  },
  {
   "cell_type": "code",
   "execution_count": 21,
   "metadata": {},
   "outputs": [
    {
     "name": "stdout",
     "output_type": "stream",
     "text": [
      "--- O que tem na lista:\n",
      "['The Crown', 'Bojack Horseman', 'Explicando']\n",
      "--- Novo item:\n",
      "['The Crown', 'Bojack Horseman', 'Explicando', 'Irmandade']\n",
      "--- Primeiro item da lista:\n",
      "The Crown\n",
      "--- Onde está The Crown?\n",
      "0\n",
      "The Crown\n",
      "--- Seriados ordenados:\n",
      "['Bojack Horseman', 'Explicando', 'Irmandade', 'The Crown']\n",
      "--- Deletamos o primeiro e o último da lista\n",
      "['Irmandade', 'The Crown']\n"
     ]
    }
   ],
   "source": [
    "# primeiro, vamos ver o que tem nessa lista:\n",
    "\n",
    "print('--- O que tem na lista:')\n",
    "print(seriados)\n",
    "\n",
    "# adicionando itens a uma lista que já existe\n",
    "\n",
    "print('--- Novo item:')\n",
    "seriados.append('Irmandade')\n",
    "print(seriados)\n",
    "\n",
    "# acessando itens em uma lista\n",
    "\n",
    "print('--- Primeiro item da lista:')\n",
    "print(seriados[0])  # o primeiro item da lista - isso mesmo, Python começa a contar do zero!\n",
    "\n",
    "### Encontrando um item em uma lista\n",
    "\n",
    "print('--- Onde está The Crown?')\n",
    "onde_esta_esse_seriado = seriados.index('The Crown')  # O Python vai te dizer em que posição o que você busca está\n",
    "print(onde_esta_esse_seriado)\n",
    "print(seriados[onde_esta_esse_seriado])\n",
    "\n",
    "### Ordenando uma lista\n",
    "\n",
    "print('--- Seriados ordenados:')\n",
    "seriados = sorted(seriados)  # substituímos a lista desordenada pela ordenada\n",
    "print(seriados)\n",
    "\n",
    "### Deletando um item de uma lista\n",
    "\n",
    "print('--- Deletamos o primeiro e o último da lista')\n",
    "seriados.pop(0)  # deleta o primeiro da lista\n",
    "seriados.pop(0)  # deleta o útil da lista\n",
    "print(seriados)"
   ]
  },
  {
   "cell_type": "markdown",
   "metadata": {},
   "source": [
    "# Dicionários\n",
    "\n",
    "Agora que já sabemos o que são listas podemos criar uma agenda telefônica, com o número dos nossos\n",
    "melhores amigos. Como podemos fazer isso? Com listas?\n",
    "\n",
    "```\n",
    "amigos = ['Mateus', 'Ana', 'Lari']\n",
    "telefone_dos_amigos = [123456, 998765, 56742534]\n",
    "```\n",
    "\n",
    "Até poderíamos fazer mas teríamos que mudar as duas listas juntas todas as vezes.\n",
    "E se errarmos a posição dos números? Essa agenda telefônica não seria muito confiável.\n",
    "\n",
    "Para resolver esse problema onde precisamos de um identificador único para armazenar dados,\n",
    "podemos utilizar uma estrutura de dados chamada Dicionários."
   ]
  },
  {
   "cell_type": "code",
   "execution_count": 25,
   "metadata": {},
   "outputs": [
    {
     "name": "stdout",
     "output_type": "stream",
     "text": [
      "O telefone de Lari é: 5674253\n",
      "O telefone de Lari é: 5674253\n"
     ]
    }
   ],
   "source": [
    "agenda = {\n",
    "    'Mateus': 123456,\n",
    "    'Ana': 998765,\n",
    "    'Lari': 5674253,\n",
    "}\n",
    "\n",
    "print(f\"O telefone de Lari é: {agenda.get('Lari')}\")\n",
    "\n",
    "# podemos mostrar também dessa forma\n",
    "print(f\"O telefone de Lari é: {agenda['Lari']}\")"
   ]
  },
  {
   "cell_type": "code",
   "execution_count": 26,
   "metadata": {},
   "outputs": [
    {
     "ename": "KeyError",
     "evalue": "'Mari'",
     "output_type": "error",
     "traceback": [
      "\u001b[0;31m---------------------------------------------------------------------------\u001b[0m",
      "\u001b[0;31mKeyError\u001b[0m                                  Traceback (most recent call last)",
      "\u001b[0;32m<ipython-input-26-048e1b6587a7>\u001b[0m in \u001b[0;36m<module>\u001b[0;34m\u001b[0m\n\u001b[0;32m----> 1\u001b[0;31m \u001b[0mprint\u001b[0m\u001b[0;34m(\u001b[0m\u001b[0;34mf\"O telefone de Mari é: {agenda['Mari']}\"\u001b[0m\u001b[0;34m)\u001b[0m\u001b[0;34m\u001b[0m\u001b[0;34m\u001b[0m\u001b[0m\n\u001b[0m",
      "\u001b[0;31mKeyError\u001b[0m: 'Mari'"
     ]
    }
   ],
   "source": [
    "print(f\"O telefone de Mari é: {agenda['Mari']}\")  # gera um erro porque Mari não está na agenda ainda :)"
   ]
  },
  {
   "cell_type": "code",
   "execution_count": 27,
   "metadata": {},
   "outputs": [
    {
     "name": "stdout",
     "output_type": "stream",
     "text": [
      "{'Mateus': 123456, 'Ana': 998765, 'Lari': 5674253, 'Mari': 6769798}\n"
     ]
    }
   ],
   "source": [
    "agenda['Mari'] = 6769798  # adicionamos o número de Mari\n",
    "\n",
    "print(agenda)"
   ]
  },
  {
   "cell_type": "markdown",
   "metadata": {},
   "source": [
    "Os dicionários utilizam uma estrutura de **chave** e **valor**, onde a chave é o identificador único\n",
    "e o valor pode ser qualquer coisa: inclusive outro dicionário.\n",
    "\n",
    "O que acontece se você utilizar a mesma chave com valores diferentes?\n",
    "Consegue adivinha qual número será impresso na tela?"
   ]
  },
  {
   "cell_type": "code",
   "execution_count": 23,
   "metadata": {},
   "outputs": [],
   "source": [
    "agenda = {\n",
    "    'Mateus': 123456,\n",
    "    'Ana': 998765,\n",
    "    'Lari': 5674253,\n",
    "    'Mateus': 99900009999,  # mudou de número\n",
    "}\n",
    "\n",
    "# print(f\"O telefone de Mateus é: {agenda.get('Mateus')}\")"
   ]
  },
  {
   "cell_type": "markdown",
   "metadata": {},
   "source": [
    "Nenhum erro será apontado pelo Python porque a linguagem entende que você pode atualizar os valores\n",
    "mais tarde. Tem que tomar cuidado para não fazer isso por acidente.\n",
    "\n",
    "Falando em atualizar, como podemos atualizar um número de alguém que você já tem na agenda?"
   ]
  },
  {
   "cell_type": "code",
   "execution_count": 24,
   "metadata": {},
   "outputs": [
    {
     "data": {
      "text/plain": [
       "{'Mateus': 99900009999,\n",
       " 'Ana': 112233,\n",
       " 'Lari': 5674253,\n",
       " 'Camila': 445566,\n",
       " 'ana': 89898989}"
      ]
     },
     "execution_count": 24,
     "metadata": {},
     "output_type": "execute_result"
    }
   ],
   "source": [
    "agenda['Ana'] = 112233\n",
    "agenda['Camila'] = 445566  # novo amigo na agenda\n",
    "\n",
    "agenda['ana'] = 89898989  # novo ou não?\n",
    "agenda"
   ]
  },
  {
   "cell_type": "markdown",
   "metadata": {},
   "source": [
    "O potencial de programação vai muito além do que já vimos aqui.\n",
    "Uma das coisas mais legais é poder interagir com o mundo fora do código: com pessoas!\n",
    "\n",
    "Podemos receber dados das pessoas através do `input`. O programa vai esperar a entrada de dados\n",
    "de um usuário e salvá-la em uma variável:"
   ]
  },
  {
   "cell_type": "code",
   "execution_count": 29,
   "metadata": {},
   "outputs": [
    {
     "name": "stdout",
     "output_type": "stream",
     "text": [
      "Quantos anos você tem?31\n",
      "Você tem 31 anos\n"
     ]
    }
   ],
   "source": [
    "idade = input('Quantos anos você tem?')\n",
    "\"\"\"\n",
    "Vai mostrar essa mensagem na tela, esperar o usuário digitar algo e dar enter,\n",
    "e salvar o que ele digitou em `idade`\n",
    "\"\"\"\n",
    "print(f'Você tem {idade} anos')"
   ]
  },
  {
   "cell_type": "code",
   "execution_count": null,
   "metadata": {},
   "outputs": [],
   "source": []
  }
 ],
 "metadata": {
  "kernelspec": {
   "display_name": "Python 3",
   "language": "python",
   "name": "python3"
  },
  "language_info": {
   "codemirror_mode": {
    "name": "ipython",
    "version": 3
   },
   "file_extension": ".py",
   "mimetype": "text/x-python",
   "name": "python",
   "nbconvert_exporter": "python",
   "pygments_lexer": "ipython3",
   "version": "3.8.0"
  }
 },
 "nbformat": 4,
 "nbformat_minor": 2
}
