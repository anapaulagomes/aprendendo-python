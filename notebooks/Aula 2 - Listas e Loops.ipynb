{
 "cells": [
  {
   "cell_type": "markdown",
   "metadata": {},
   "source": [
    "# Listas\n",
    "\n",
    "E se você quiser guardar uma lista das mesmas coisas, como os seus seriados preferidos?\n",
    "Você poderia criar uma variável pra cada um.\n",
    "\n",
    "\n",
    "```\n",
    "seriado1 = \"The Crown\"\n",
    "seriado2 = \"Bojack Horseman\"\n",
    "seriado3 = \"Explicando\"\n",
    "\n",
    "```\n",
    "\n",
    "Conforme a lista for crescendo, vai ser difícil gerenciar todas as variáveis, já que elas\n",
    "estão separadas. Com o Python você pode criar suas próprias **listas**:"
   ]
  },
  {
   "cell_type": "code",
   "execution_count": 29,
   "metadata": {},
   "outputs": [
    {
     "name": "stdout",
     "output_type": "stream",
     "text": [
      "['The Crown', 'Bojack Horseman', 'Explicando']\n"
     ]
    }
   ],
   "source": [
    "seriados = [\"The Crown\", \"Bojack Horseman\", \"Explicando\"]\n",
    "print(seriados)"
   ]
  },
  {
   "cell_type": "markdown",
   "metadata": {},
   "source": [
    "Você pode também criar listas combinando tipos diferentes:\n",
    "\n",
    "```\n",
    "notas = [10, 8.9, 7.5, 9.2]  # inteiros e decimais\n",
    "```\n",
    "\n",
    "### Exercício\n",
    "\n",
    "Crie listas com:\n",
    "\n",
    "* Coisas que você adora fazer em Feira de Santana\n",
    "* Coisas que você não gosta em Feira de Santana\n",
    "* O que você mais curte fazer na internet"
   ]
  },
  {
   "cell_type": "markdown",
   "metadata": {},
   "source": [
    "PS.: a essa altura do campeonato você já deve ter notado umas **hashtags** rolando por aí.\n",
    "Elas são chamadas de **comentários**. O conteúdo delas será ignorado pelo Python e você\n",
    "pode escrever o que você quiser. É importante para documentar o que você está fazendo ou\n",
    "pontos que queira explicar para o seu eu do futuro ou para o seu time.\n",
    "\n",
    "`# eu sou um comentário`\n",
    "\n",
    "Comentários podem ter também múltiplas linhas:\n",
    "\n",
    "```\n",
    "\"\"\"\n",
    "Muitas\n",
    "Linhas\n",
    "Aqui\n",
    "\"\"\"\n",
    "```"
   ]
  },
  {
   "cell_type": "markdown",
   "metadata": {},
   "source": [
    "## Projeto: Pedra, papel eeee tesoooura!\n",
    "\n",
    "Quem nunca brincou de pedra, papel e tesoura, não é mesmo? :) Mas e se você\n",
    "jogasse contra o computador. Como seria? Nesse projeto criamos um joguinho para\n",
    "jogar esse jogo contra o computador e no final mostrar quantos pontos ele ou\n",
    "você acumularam."
   ]
  },
  {
   "cell_type": "code",
   "execution_count": 30,
   "metadata": {},
   "outputs": [
    {
     "name": "stdout",
     "output_type": "stream",
     "text": [
      "Pedra, papel e tesoura\n",
      "\n",
      "\n",
      "Qual a sua jogada?pedra\n",
      "Computador jogou: pedra\n",
      "\n",
      "\n",
      "\n",
      "Humano 0 x 0 Computador\n",
      "Qual a sua jogada?papel\n",
      "Computador jogou: pedra\n",
      "\n",
      "\\o/ humano ganhou!\n",
      "\n",
      "\n",
      "Humano 1 x 0 Computador\n",
      "Qual a sua jogada?tesoura\n",
      "Computador jogou: tesoura\n",
      "\n",
      "\n",
      "\n",
      "Humano 1 x 0 Computador\n",
      "Qual a sua jogada?tesoura\n",
      "Computador jogou: papel\n",
      "\n",
      "\\o/ humano ganhou!\n",
      "\n",
      "\n",
      "Humano 2 x 0 Computador\n",
      "Qual a sua jogada?pedra\n",
      "Computador jogou: tesoura\n",
      "\n",
      "\\o/ humano ganhou!\n",
      "\n",
      "\n",
      "Humano 3 x 0 Computador\n",
      "Qual a sua jogada?pedra\n",
      "Computador jogou: papel\n",
      "\n",
      ":/ computador ganhou!\n",
      "\n",
      "\n",
      "Humano 3 x 1 Computador\n",
      "Qual a sua jogada?sair\n"
     ]
    }
   ],
   "source": [
    "\"\"\"\n",
    "Regras:\n",
    "\n",
    "- Pedra ganha de Tesoura\n",
    "- Tesoura ganha de Papel\n",
    "- Papel ganha de Pedra\n",
    "\"\"\"\n",
    "import random\n",
    "\n",
    "\n",
    "opcoes = [\"pedra\", \"papel\", \"tesoura\"]\n",
    "\n",
    "pontos_do_computador = 0\n",
    "pontos_do_humano = 0\n",
    "\n",
    "print(\"Pedra, papel e tesoura\\n\\n\")\n",
    "jogada_do_humano = \"\"\n",
    "\n",
    "while jogada_do_humano.lower() != \"sair\":\n",
    "    jogada_do_humano = input(\"Qual a sua jogada?\")\n",
    "    if jogada_do_humano in opcoes:\n",
    "        jogada_do_computador = random.choice(opcoes)\n",
    "        print(f\"Computador jogou: {jogada_do_computador}\\n\")\n",
    "\n",
    "        # pedra ganha de tesoura\n",
    "        if jogada_do_humano == \"pedra\" and jogada_do_computador == \"tesoura\":\n",
    "            print(\"\\o/ humano ganhou!\")\n",
    "            pontos_do_humano = pontos_do_humano + 1\n",
    "        elif jogada_do_computador == \"pedra\" and jogada_do_humano == \"tesoura\":\n",
    "            print(\":/ computador ganhou!\")\n",
    "            pontos_do_computador = pontos_do_computador + 1\n",
    "        \n",
    "        # tesoura ganha de papel\n",
    "        if jogada_do_humano == \"tesoura\" and jogada_do_computador == \"papel\":\n",
    "            print(\"\\o/ humano ganhou!\")\n",
    "            pontos_do_humano = pontos_do_humano + 1\n",
    "        elif jogada_do_computador == \"tesoura\" and jogada_do_humano == \"papel\":\n",
    "            print(\":/ computador ganhou!\")\n",
    "            pontos_do_computador = pontos_do_computador + 1\n",
    "\n",
    "        # papel ganha de pedra        \n",
    "        if jogada_do_humano == \"papel\" and jogada_do_computador == \"pedra\":\n",
    "            print(\"\\o/ humano ganhou!\")\n",
    "            pontos_do_humano = pontos_do_humano + 1\n",
    "        elif jogada_do_computador == \"papel\" and jogada_do_humano == \"pedra\":\n",
    "            print(\":/ computador ganhou!\")\n",
    "            pontos_do_computador = pontos_do_computador + 1\n",
    "\n",
    "        print(f\"\\n\\nHumano {pontos_do_humano} x {pontos_do_computador} Computador\")\n",
    "    elif jogada_do_humano.lower() != \"sair\":\n",
    "        print(f\"Escolha uma das opções: {opcoes}\")\n"
   ]
  },
  {
   "cell_type": "markdown",
   "metadata": {},
   "source": [
    "## Mais ação com listas\n",
    "\n",
    "Dá pra fazer bastante coisas com listas. Elas são uma estrutura de dados poderosa!\n",
    "\n",
    "Vamos ver como:\n",
    "\n",
    "* adicionar\n",
    "* remover\n",
    "* buscar\n",
    "* ordenar\n",
    "\n",
    "Elementos em uma lista!"
   ]
  },
  {
   "cell_type": "code",
   "execution_count": 31,
   "metadata": {},
   "outputs": [
    {
     "name": "stdout",
     "output_type": "stream",
     "text": [
      "--- O que tem na lista:\n",
      "['The Crown', 'Bojack Horseman', 'Explicando']\n",
      "--- Novo item:\n",
      "['The Crown', 'Bojack Horseman', 'Explicando', 'Irmandade']\n",
      "--- Primeiro item da lista:\n",
      "The Crown\n",
      "--- Onde está The Crown?\n",
      "0\n",
      "The Crown\n",
      "--- Seriados ordenados:\n",
      "['Bojack Horseman', 'Explicando', 'Irmandade', 'The Crown']\n",
      "--- Deletamos o primeiro e o último da lista\n",
      "['Irmandade', 'The Crown']\n"
     ]
    }
   ],
   "source": [
    "# primeiro, vamos ver o que tem nessa lista:\n",
    "\n",
    "print('--- O que tem na lista:')\n",
    "print(seriados)\n",
    "\n",
    "# adicionando itens a uma lista que já existe\n",
    "\n",
    "print('--- Novo item:')\n",
    "seriados.append('Irmandade')\n",
    "print(seriados)\n",
    "\n",
    "# acessando itens em uma lista\n",
    "\n",
    "print('--- Primeiro item da lista:')\n",
    "print(seriados[0])  # o primeiro item da lista - isso mesmo, Python começa a contar do zero!\n",
    "\n",
    "### Encontrando um item em uma lista\n",
    "\n",
    "print('--- Onde está The Crown?')\n",
    "onde_esta_esse_seriado = seriados.index('The Crown')  # O Python vai te dizer em que posição o que você busca está\n",
    "print(onde_esta_esse_seriado)\n",
    "print(seriados[onde_esta_esse_seriado])\n",
    "\n",
    "### Ordenando uma lista\n",
    "\n",
    "print('--- Seriados ordenados:')\n",
    "seriados = sorted(seriados)  # substituímos a lista desordenada pela ordenada\n",
    "print(seriados)\n",
    "\n",
    "### Deletando um item de uma lista\n",
    "\n",
    "print('--- Deletamos o primeiro e o último da lista')\n",
    "seriados.pop(0)  # deleta o primeiro da lista\n",
    "seriados.pop(0)  # deleta o útil da lista\n",
    "print(seriados)"
   ]
  },
  {
   "cell_type": "markdown",
   "metadata": {},
   "source": [
    "# Estruturas de repetição (ou laços/loops)\n",
    "\n",
    "Nós podemos mostrar os itens da lista um por um sem precisar acessar\n",
    "os índices (a posição) de cada um utilizando **laços**.\n",
    "\n",
    "O primeiro laço que vamos ver é o **for**."
   ]
  },
  {
   "cell_type": "code",
   "execution_count": 32,
   "metadata": {},
   "outputs": [
    {
     "name": "stdout",
     "output_type": "stream",
     "text": [
      "Meteoro Brasil\n",
      "Nerdologia\n",
      "Se liga nessa história\n",
      "Porta dos Fundos\n"
     ]
    }
   ],
   "source": [
    "canais_do_youtube = ['Meteoro Brasil', 'Nerdologia', 'Se liga nessa história', 'Porta dos Fundos']\n",
    "\n",
    "# significa para UM canal NA lista de canais do youtube que eu gosto\n",
    "for canal in canais_do_youtube:\n",
    "    print(canal)\n"
   ]
  },
  {
   "cell_type": "markdown",
   "metadata": {},
   "source": [
    "O **for** itera sob uma sequência. O que significa isso?\n",
    "Significa que ele vai passar item por item de uma sequência. A sequência que estamos\n",
    "utilizando agora é uma lista.\n",
    "\n",
    "Uma outra estrutura de laço é o **while**, que continuará executando até\n",
    "que uma condição seja falsa."
   ]
  },
  {
   "cell_type": "code",
   "execution_count": 33,
   "metadata": {},
   "outputs": [
    {
     "name": "stdout",
     "output_type": "stream",
     "text": [
      "1\n",
      "2\n",
      "3\n",
      "4\n",
      "5\n",
      "6\n",
      "7\n",
      "8\n",
      "9\n",
      "10\n"
     ]
    }
   ],
   "source": [
    "numero_desejado = 10\n",
    "contador = 0\n",
    "\n",
    "while contador != numero_desejado:\n",
    "    contador = contador + 1\n",
    "    print(contador)\n"
   ]
  },
  {
   "cell_type": "markdown",
   "metadata": {},
   "source": [
    "**ATENÇÃO:** cuidado com o `while`. Sem querer você pode acabar criando um **loop infinito**,\n",
    "que nada mais é que um loop que não acaba mais.\n",
    "\n",
    "```python\n",
    "while True:\n",
    "    print('Eu vou executar pra sempre')\n",
    "```"
   ]
  }
 ],
 "metadata": {
  "kernelspec": {
   "display_name": "Python 3",
   "language": "python",
   "name": "python3"
  },
  "language_info": {
   "codemirror_mode": {
    "name": "ipython",
    "version": 3
   },
   "file_extension": ".py",
   "mimetype": "text/x-python",
   "name": "python",
   "nbconvert_exporter": "python",
   "pygments_lexer": "ipython3",
   "version": "3.8.0"
  }
 },
 "nbformat": 4,
 "nbformat_minor": 2
}
