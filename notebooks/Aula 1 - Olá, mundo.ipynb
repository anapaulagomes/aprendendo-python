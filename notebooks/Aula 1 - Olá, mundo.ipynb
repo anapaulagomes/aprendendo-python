{
 "cells": [
  {
   "cell_type": "markdown",
   "metadata": {},
   "source": [
    "# Olá, mundo\n",
    "\n",
    "Mostrando um \"Olá, mundo\" na tela foi como boa parte das pessoas programadoras começou.\n",
    "Chegou a sua vez!"
   ]
  },
  {
   "cell_type": "code",
   "execution_count": 19,
   "metadata": {},
   "outputs": [
    {
     "name": "stdout",
     "output_type": "stream",
     "text": [
      "Olá, mundo!\n"
     ]
    }
   ],
   "source": [
    "print(\"Olá, mundo!\")"
   ]
  },
  {
   "cell_type": "markdown",
   "metadata": {},
   "source": [
    "Repare que você teve que colocar a sua mensagem dentro de parênteses antecedidos por `print`. O `print` é um método (ou uma função) responśavel por mostrar alguma informação na tela.\n",
    "\n",
    "Você pode mostrar outras coisas também:"
   ]
  },
  {
   "cell_type": "code",
   "execution_count": 20,
   "metadata": {},
   "outputs": [
    {
     "name": "stdout",
     "output_type": "stream",
     "text": [
      "Meu nome é Ana\n",
      "Eu tenho 31 anos\n",
      "\n",
      "C\n",
      "J\n",
      "C\n",
      "C\n",
      "\n"
     ]
    }
   ],
   "source": [
    "print(\"Meu nome é Ana\")\n",
    "print(f\"Eu tenho {2019 - 1988} anos\")\n",
    "print(\"\\nC\\nJ\\nC\\nC\\n\")"
   ]
  },
  {
   "cell_type": "markdown",
   "metadata": {},
   "source": [
    "# Variáveis e tipos de dados\n",
    "\n",
    "Mas não só de imprimir seu nome na tela viverá a pessoa programadora.:)\n",
    "Seria muito legal se a gente conseguisse salvar informações. Isso é\n",
    "possível graças ás **variáveis**!"
   ]
  },
  {
   "cell_type": "code",
   "execution_count": 21,
   "metadata": {},
   "outputs": [
    {
     "name": "stdout",
     "output_type": "stream",
     "text": [
      "---------- Ficha ----------\n",
      "Nome: Ana Paula Gomes\n",
      "Idade: 31\n",
      "Saldo: 4.89\n",
      "É programadora? True\n"
     ]
    }
   ],
   "source": [
    "nome = 'Ana Paula Gomes'\n",
    "ano_de_nascimento = 1988\n",
    "dinheiro_na_carteira = 4.89\n",
    "eh_programadora = True  # True significa verdadeiro / False significa falso\n",
    "\n",
    "print('---------- Ficha ----------')\n",
    "print(f'Nome: {nome}')\n",
    "print(f'Idade: {2019 - ano_de_nascimento}')\n",
    "print(f'Saldo: {dinheiro_na_carteira}')\n",
    "print(f'É programadora? {eh_programadora}')\n"
   ]
  },
  {
   "cell_type": "markdown",
   "metadata": {},
   "source": [
    "Cada tipo de informação está guardada dentro das suas caixinhas (variáveis) e você pode reutilizá-las ou modificá-las quantas vezes quiser. Em Python, os nomes de variáveis podem:\n",
    "\n",
    "* incluir letras e números (e _underscores_ `_` também)\n",
    "* embora possa incluir números, não pode iniciar com eles (você pode criar um `carro1` mas não um `1carro`)\n",
    "* são _case sensitive_ ; ou seja, ele vai diferenciar letras maiúsculas e minúsculas\n",
    "\n",
    "Python infere qual o tipo de dado você está utilizando a partir do dado que você atribui as suas variáveis.\n",
    "Se você quiser saber qual tipo de variável está utilizando, basta chamar o método `type`:"
   ]
  },
  {
   "cell_type": "code",
   "execution_count": 22,
   "metadata": {},
   "outputs": [
    {
     "name": "stdout",
     "output_type": "stream",
     "text": [
      "<class 'bool'>\n"
     ]
    }
   ],
   "source": [
    "eh_estudante = True\n",
    "print(type(eh_estudante))"
   ]
  },
  {
   "cell_type": "markdown",
   "metadata": {},
   "source": [
    "| Tipo de dado     | Exemplo | Descrição        |\n",
    "| :---: | :---: | :--- |\n",
    "| string (`str`) | `\"CJCC\"`, `\"Estou vendo um filme na Netflix\"` | Utilizado para representar números inteiros. Exemplo: número de telefone, idade, ano de nascimento, número da casa |\n",
    "| inteiro (`int`) | `2020` | Utilizado para representar números inteiros. Exemplo: número de telefone, idade, ano de nascimento, número da casa |\n",
    "| float (`float`) | `9.99` | Utilizado para representar números decimais. Exemplo: dinheiro, quantidade de um líquido |\n",
    "| boleano (`bool`) | `True` / `False` | Utilizado para representar informações que podem ser classificadas em verdadeiro ou falso. Exemplo: tem mais de 18 anos? Gosta de coentro? |\n",
    "\n",
    "O que acha de tentar o método `type` com as outras variáveis?\n",
    "\n",
    "### Exercício\n",
    "\n",
    "Agora é a sua vez. Crie uma ficha sobre você com as seguintes informações:\n",
    "\n",
    "* Seu nome completo\n",
    "* Apelido\n",
    "* Idade\n",
    "* É a primeira vez que você programa?\n",
    "* O que você gosta de fazer no seu tempo livre?\n",
    "\n",
    "Você deve utilizar variáveis e imprimir todas as informações na tela."
   ]
  },
  {
   "cell_type": "markdown",
   "metadata": {},
   "source": [
    "## Comentários\n",
    "\n",
    "PS.: a essa altura do campeonato você já deve ter notado umas **hashtags** rolando por aí.\n",
    "Elas são chamadas de **comentários**.\n",
    "O conteúdo delas será ignorado pelo Python e você pode escrever o que você quiser.\n",
    "É importante para documentar o que você está fazendo ou pontos que queira explicar\n",
    "para o seu eu do futuro ou para o seu time.\n",
    "\n",
    "`# eu sou um comentário`\n",
    "\n",
    "Comentários podem ter também múltiplas linhas:\n",
    "\n",
    "```\n",
    "\"\"\"\n",
    "Esse programa é um jogo de salada de frutas.\n",
    "Ele escolhe a letra automaticamente e conta os pontos no final\n",
    "\"\"\"\n",
    "```\n"
   ]
  },
  {
   "cell_type": "markdown",
   "metadata": {},
   "source": [
    "## Input\n",
    "\n",
    "O potencial de programação vai muito além do que já vimos aqui.\n",
    "Uma das coisas mais legais é poder interagir com o mundo fora do código: com pessoas!\n",
    "\n",
    "Podemos receber dados das pessoas através do `input`. O programa vai esperar a entrada de dados\n",
    "de um usuário e salvá-la em uma variável:"
   ]
  },
  {
   "cell_type": "code",
   "execution_count": 23,
   "metadata": {},
   "outputs": [
    {
     "name": "stdout",
     "output_type": "stream",
     "text": [
      "Quantos anos você tem?31\n",
      "Você tem 31 anos\n"
     ]
    }
   ],
   "source": [
    "idade = input('Quantos anos você tem?')\n",
    "\"\"\"\n",
    "Vai mostrar essa mensagem na tela, esperar o usuário digitar algo e dar enter,\n",
    "e salvar o que ele digitou em `idade`\n",
    "\"\"\"\n",
    "print(f'Você tem {idade} anos')"
   ]
  },
  {
   "cell_type": "markdown",
   "metadata": {},
   "source": [
    "## Estruturas de controle\n",
    "\n",
    "Existem algumas ações que gostaríamos de controlar e tomamos decisões baseadas nos dados\n",
    "ou informações que temos. Já fazemos isso bastante no nosso dia a dia. Um exemplo disso\n",
    "é atravessar a rua. Você só atravessa uma rua quando sabe que é seguro o suficiente, sendo\n",
    "porquê o sinal está fechado ou quando não tem carros vindo. Seu cérebro organiza tudo para\n",
    "você:\n",
    "\n",
    "- para no passeio\n",
    "- vê se o sinal está fechado\n",
    "- o sinal está fechado?\n",
    "- SIM! Posso atravessar a rua\n",
    "- o sinal está fechado?\n",
    "- NÃO! Não posso atravessar a rua\n",
    "\n",
    "Na programação não é diferente. Temos estruturas chamadas **estruturas de controle**. Utilizamos as\n",
    "palavras-chave `if` (que significa \"se\") e `else` (que significa \"senão\") para controlar o que vamos fazer.\n",
    "\n",
    "Aproveitando o exemplo da idade, vamos verificar se uma pessoa pode votar ou não:"
   ]
  },
  {
   "cell_type": "code",
   "execution_count": 24,
   "metadata": {},
   "outputs": [
    {
     "ename": "TypeError",
     "evalue": "'>=' not supported between instances of 'str' and 'int'",
     "output_type": "error",
     "traceback": [
      "\u001b[0;31m---------------------------------------------------------------------------\u001b[0m",
      "\u001b[0;31mTypeError\u001b[0m                                 Traceback (most recent call last)",
      "\u001b[0;32m<ipython-input-24-83d40b5203e4>\u001b[0m in \u001b[0;36m<module>\u001b[0;34m\u001b[0m\n\u001b[0;32m----> 1\u001b[0;31m \u001b[0;32mif\u001b[0m \u001b[0midade\u001b[0m \u001b[0;34m>=\u001b[0m \u001b[0;36m16\u001b[0m\u001b[0;34m:\u001b[0m\u001b[0;34m\u001b[0m\u001b[0;34m\u001b[0m\u001b[0m\n\u001b[0m\u001b[1;32m      2\u001b[0m     \u001b[0mprint\u001b[0m\u001b[0;34m(\u001b[0m\u001b[0;34m\"Já pode votar! :)\"\u001b[0m\u001b[0;34m)\u001b[0m\u001b[0;34m\u001b[0m\u001b[0;34m\u001b[0m\u001b[0m\n\u001b[1;32m      3\u001b[0m \u001b[0;32melse\u001b[0m\u001b[0;34m:\u001b[0m\u001b[0;34m\u001b[0m\u001b[0;34m\u001b[0m\u001b[0m\n\u001b[1;32m      4\u001b[0m     \u001b[0mprint\u001b[0m\u001b[0;34m(\u001b[0m\u001b[0;34m\"Não pode votar! :(\"\u001b[0m\u001b[0;34m)\u001b[0m\u001b[0;34m\u001b[0m\u001b[0;34m\u001b[0m\u001b[0m\n",
      "\u001b[0;31mTypeError\u001b[0m: '>=' not supported between instances of 'str' and 'int'"
     ]
    }
   ],
   "source": [
    "if idade >= 16:\n",
    "    print(\"Já pode votar! :)\")\n",
    "else:\n",
    "    print(\"Não pode votar! :(\")\n"
   ]
  },
  {
   "cell_type": "markdown",
   "metadata": {},
   "source": [
    "Ops, encontramos um erro. A mensagem diz que não podemos dizer se uma _string_ (um texto)\n",
    "é menor que um número (16, nesse caso). Porquê? Porque `idade` foi digitada pelo usuário.\n",
    "Por padrão, o que vem do `input` é um texto. Temos que **converter** do tipo _string_ para\n",
    "um número inteiro.\n",
    "\n",
    "Em Python é bem fácil. Basta utilizar o nome do tipo para converter o dado."
   ]
  },
  {
   "cell_type": "code",
   "execution_count": null,
   "metadata": {},
   "outputs": [],
   "source": [
    "idade = int(idade)  # convertemos o tipo e já substituímos!\n",
    "\n",
    "if idade >= 16:\n",
    "    print(\"Já pode votar! :)\")\n",
    "else:\n",
    "    print(\"Não pode votar! :(\")\n"
   ]
  },
  {
   "cell_type": "markdown",
   "metadata": {},
   "source": [
    "# Projeto da Aula: Salada de Frutas\n",
    "\n",
    "Nessa aula criamos um jogo chamado Salada de Frutas com Python.\n",
    "Esse jogo também é conhecido como STOP ou adedanha.\n",
    "\n",
    "Lembrando como o jogo funciona:\n",
    "\n",
    "* Sorteamos uma letra automaticamente\n",
    "* \n",
    "\n",
    "**Atenção**: Nós deixamos a letra escolhida minúscula para comparar com\n"
   ]
  },
  {
   "cell_type": "code",
   "execution_count": 25,
   "metadata": {},
   "outputs": [
    {
     "name": "stdout",
     "output_type": "stream",
     "text": [
      "Vamos jogar salada de frutas?\n",
      "A letra é... p\n",
      "\n",
      "\n",
      "Nome: Paula\n",
      "Fruta: \n",
      "Cidade, Estado ou País: \n",
      "Animal: \n",
      "Minha sogra é...\n",
      "Objeto: \n",
      "Cantor(a): \n",
      "Ator(a): \n",
      "Novela: \n",
      "Música: \n",
      "TOTAL: 1\n"
     ]
    }
   ],
   "source": [
    "import string\n",
    "import random\n",
    "\n",
    "\n",
    "print(\"Vamos jogar salada de frutas?\")\n",
    "\n",
    "letra = random.choice(string.ascii_letters)\n",
    "letra = letra.lower()  # a função lower() deixa o texto em letras minúsculas\n",
    "\n",
    "print(f\"A letra é... {letra}\\n\\n\")\n",
    "\n",
    "nome = input(\"Nome: \")\n",
    "fruta = input(\"Fruta: \")\n",
    "cep = input(\"Cidade, Estado ou País: \")\n",
    "animal = input(\"Animal: \")\n",
    "minha_sogra_eh = input(\"Minha sogra é...\")\n",
    "objeto = input(\"Objeto: \")\n",
    "cantor_ou_cantora = input(\"Cantor(a): \")\n",
    "ator_ou_atriz = input(\"Ator(a): \")\n",
    "novela = input(\"Novela: \")\n",
    "musica = input(\"Música: \")\n",
    "\n",
    "total = 0\n",
    "if nome != \"\" and nome.lower().startswith(letra):\n",
    "    total = total + 1\n",
    "if fruta != \"\" and fruta.lower().startswith(letra):\n",
    "    total = total + 1\n",
    "if cep != \"\" and cep.lower().startswith(letra):\n",
    "    total = total + 1\n",
    "if animal != \"\" and animal.lower().startswith(letra):\n",
    "    total = total + 1\n",
    "if minha_sogra_eh != \"\" and minha_sogra_eh.lower().startswith(letra):\n",
    "    total = total + 1\n",
    "if objeto != \"\" and objeto.lower().startswith(letra):\n",
    "    total = total + 1\n",
    "if cantor_ou_cantora != \"\" and cantor_ou_cantora.lower().startswith(letra):\n",
    "    total = total + 1\n",
    "if ator_ou_atriz != \"\" and ator_ou_atriz.lower().startswith(letra):\n",
    "    total = total + 1\n",
    "if novela != \"\" and novela.lower().startswith(letra):\n",
    "    total = total + 1\n",
    "if musica != \"\" and musica.lower().startswith(letra):\n",
    "    total = total + 1\n",
    "\n",
    "print(f'TOTAL: {total}')\n"
   ]
  }
 ],
 "metadata": {
  "kernelspec": {
   "display_name": "Python 3",
   "language": "python",
   "name": "python3"
  },
  "language_info": {
   "codemirror_mode": {
    "name": "ipython",
    "version": 3
   },
   "file_extension": ".py",
   "mimetype": "text/x-python",
   "name": "python",
   "nbconvert_exporter": "python",
   "pygments_lexer": "ipython3",
   "version": "3.8.0"
  }
 },
 "nbformat": 4,
 "nbformat_minor": 2
}
