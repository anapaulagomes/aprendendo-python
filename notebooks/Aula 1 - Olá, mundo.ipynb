{
 "cells": [
  {
   "cell_type": "markdown",
   "metadata": {},
   "source": [
    "# Olá, mundo\n",
    "\n",
    "Mostrando um \"Olá, mundo\" na tela foi como boa parte das pessoas programadoras começou.\n",
    "Chegou a sua vez!"
   ]
  },
  {
   "cell_type": "code",
   "execution_count": 1,
   "metadata": {},
   "outputs": [
    {
     "name": "stdout",
     "output_type": "stream",
     "text": [
      "Olá, mundo!\n"
     ]
    }
   ],
   "source": [
    "print(\"Olá, mundo!\")"
   ]
  },
  {
   "cell_type": "markdown",
   "metadata": {},
   "source": [
    "Repare que você teve que colocar a sua mensagem dentro de parênteses antecedidos por `print`. O `print` é um método (ou uma função) responśavel por mostrar alguma informação na tela.\n",
    "\n",
    "Você pode mostrar outras coisas também:"
   ]
  },
  {
   "cell_type": "code",
   "execution_count": 3,
   "metadata": {},
   "outputs": [
    {
     "name": "stdout",
     "output_type": "stream",
     "text": [
      "Meu nome é Ana\n",
      "Eu tenho 31 anos\n",
      "\n",
      "C\n",
      "J\n",
      "C\n",
      "C\n",
      "\n"
     ]
    }
   ],
   "source": [
    "print(\"Meu nome é Ana\")\n",
    "print(f\"Eu tenho {2019 - 1988} anos\")\n",
    "print(\"\\nC\\nJ\\nC\\nC\\n\")"
   ]
  },
  {
   "cell_type": "markdown",
   "metadata": {},
   "source": [
    "# Variáveis e tipos de dados\n",
    "\n",
    "Mas não só de imprimir seu nome na tela viverá a pessoa programadora.:)\n",
    "Seria muito legal se a gente conseguisse salvar informações. Isso é\n",
    "possível graças ás **variáveis**!"
   ]
  },
  {
   "cell_type": "code",
   "execution_count": 6,
   "metadata": {},
   "outputs": [
    {
     "name": "stdout",
     "output_type": "stream",
     "text": [
      "---------- Ficha ----------\n",
      "Nome: Ana Paula Gomes\n",
      "Idade: 31\n",
      "Saldo: 4.89\n",
      "É programadora? True\n"
     ]
    }
   ],
   "source": [
    "nome = 'Ana Paula Gomes'\n",
    "ano_de_nascimento = 1988\n",
    "dinheiro_na_carteira = 4.89\n",
    "eh_programadora = True  # True significa verdadeiro / False significa falso\n",
    "\n",
    "print('---------- Ficha ----------')\n",
    "print(f'Nome: {nome}')\n",
    "print(f'Idade: {2019 - ano_de_nascimento}')\n",
    "print(f'Saldo: {dinheiro_na_carteira}')\n",
    "print(f'É programadora? {eh_programadora}')\n"
   ]
  },
  {
   "cell_type": "markdown",
   "metadata": {},
   "source": [
    "Cada tipo de informação está guardada dentro das suas caixinhas (variáveis) e você pode reutilizá-las ou modificá-las quantas vezes quiser.\n",
    "Python infere qual o tipo de dado você está utilizando a partir do dado que você atribui as suas variáveis.\n",
    "Se você quiser saber qual tipo de variável está utilizando, basta chamar o método `type`:"
   ]
  },
  {
   "cell_type": "code",
   "execution_count": 7,
   "metadata": {},
   "outputs": [
    {
     "name": "stdout",
     "output_type": "stream",
     "text": [
      "<class 'bool'>\n"
     ]
    }
   ],
   "source": [
    "eh_estudante = True\n",
    "print(type(eh_estudante))"
   ]
  },
  {
   "cell_type": "markdown",
   "metadata": {},
   "source": [
    "| Tipo de dado     | Exemplo | Descrição        |\n",
    "| :---: | :---: | :--- |\n",
    "| string (`str`) | `\"CJCC\"`, `\"Estou vendo um filme na Netflix\"` | Utilizado para representar números inteiros. Exemplo: número de telefone, idade, ano de nascimento, número da casa |\n",
    "| inteiro (`int`) | `2020` | Utilizado para representar números inteiros. Exemplo: número de telefone, idade, ano de nascimento, número da casa |\n",
    "| float (`float`) | `9.99` | Utilizado para representar números decimais. Exemplo: dinheiro, quantidade de um líquido |\n",
    "| boleano (`bool`) | `True` / `False` | Utilizado para representar informações que podem ser classificadas em verdadeiro ou falso. Exemplo: tem mais de 18 anos? Gosta de coentro? |\n",
    "\n",
    "O que acha de tentar o método `type` com as outras variáveis?\n",
    "\n",
    "### Exercício\n",
    "\n",
    "Agora é a sua vez. Crie uma ficha sobre você com as seguintes informações:\n",
    "\n",
    "* Seu nome completo\n",
    "* Apelido\n",
    "* Idade\n",
    "* É a primeira vez que você programa?\n",
    "* O que você gosta de fazer no seu tempo livre?\n",
    "\n",
    "Você deve utilizar variáveis e imprimir todas as informações na tela."
   ]
  },
  {
   "cell_type": "markdown",
   "metadata": {},
   "source": [
    "# Listas\n",
    "\n",
    "E se você quiser guardar uma lista das mesmas coisas, como os seus seriados preferidos?\n",
    "Você poderia criar uma variável pra cada um.\n",
    "\n",
    "\n",
    "```\n",
    "seriado1 = \"The Crown\"\n",
    "seriado2 = \"Bojack Horseman\"\n",
    "seriado3 = \"Explicando\"\n",
    "\n",
    "```\n",
    "\n",
    "Conforme a lista for crescendo, vai ser difícil gerenciar todas as variáveis, já que elas\n",
    "estão separadas. Com o Python você pode criar suas próprias **listas**:"
   ]
  },
  {
   "cell_type": "code",
   "execution_count": 8,
   "metadata": {},
   "outputs": [
    {
     "name": "stdout",
     "output_type": "stream",
     "text": [
      "['The Crown', 'Bojack Horseman', 'Explicando']\n"
     ]
    }
   ],
   "source": [
    "seriados = [\"The Crown\", \"Bojack Horseman\", \"Explicando\"]\n",
    "print(seriados)"
   ]
  },
  {
   "cell_type": "markdown",
   "metadata": {},
   "source": [
    "Você pode também criar listas combinando tipos diferentes:\n",
    "\n",
    "```\n",
    "notas = [10, 8.9, 7.5, 9.2]  # inteiros e decimais\n",
    "```\n",
    "\n",
    "### Exercício\n",
    "\n",
    "Crie listas com:\n",
    "\n",
    "* Coisas que você adora fazer em Feira de Santana\n",
    "* Coisas que você não gosta em Feira de Santana\n",
    "* O que você mais curte fazer na internet"
   ]
  },
  {
   "cell_type": "markdown",
   "metadata": {},
   "source": [
    "PS.: a essa altura do campeonato você já deve ter notado umas **hashtags** rolando por aí.\n",
    "Elas são chamadas de **comentários**. O conteúdo delas será ignorado pelo Python e você\n",
    "pode escrever o que você quiser. É importante para documentar o que você está fazendo ou\n",
    "pontos que queira explicar para o seu eu do futuro ou para o seu time.\n",
    "\n",
    "`# eu sou um comentário`\n",
    "\n",
    "Comentários podem ter também múltiplas linhas:\n",
    "\n",
    "```\n",
    "\"\"\"\n",
    "Muitas\n",
    "Linhas\n",
    "Aqui\n",
    "\"\"\"\n",
    "```"
   ]
  },
  {
   "cell_type": "markdown",
   "metadata": {},
   "source": [
    "# Dicionários\n",
    "\n",
    "Agora que já sabemos o que são listas podemos criar uma agenda telefônica, com o número dos nossos\n",
    "melhores amigos. Como podemos fazer isso? Com listas?\n",
    "\n",
    "```\n",
    "amigos = ['Mateus', 'Ana', 'Lari']\n",
    "telefone_dos_amigos = [123456, 0998765, 56742534]\n",
    "```"
   ]
  }
 ],
 "metadata": {
  "kernelspec": {
   "display_name": "Python 3",
   "language": "python",
   "name": "python3"
  },
  "language_info": {
   "codemirror_mode": {
    "name": "ipython",
    "version": 3
   },
   "file_extension": ".py",
   "mimetype": "text/x-python",
   "name": "python",
   "nbconvert_exporter": "python",
   "pygments_lexer": "ipython3",
   "version": "3.8.0"
  }
 },
 "nbformat": 4,
 "nbformat_minor": 2
}
